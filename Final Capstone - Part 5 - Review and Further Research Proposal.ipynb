{
 "cells": [
  {
   "cell_type": "markdown",
   "metadata": {},
   "source": [
    "# Review and Further Research Proposal\n",
    "\n",
    "In Notebook 2, the data did not lend itself to classical ARIMA modeling. The data is noisy and seasonal. ARIMA is not meant for analyzing seasonal data. However, perhaps the time series analysis still has some merit in it's present format. It does fit the past data about as well as a line can, and give the user a sense of how the mean of the data is likely to change over time.\n",
    "\n",
    "A more sophisticated model such as SARIMA or SES may be able to deliver more impressive results, but falls outside of the curriculum backing up this project. \n",
    "\n",
    "With only 26 months of data, it should have been expected that forecasting would be hard, especially since ARIMA is not meant for seasonal data, and this data is somewhat seasonal. \n",
    ".\n",
    ".\n",
    ".\n",
    "The random forest classifier for singular bookings in Notebook 3 initially showed promise. However, when the data was properly divided into a test/train dataset based on time, all meaningful utility was lost. An accuracy of 68.8% is marginal in dataset with class imbalance of 72%/28%\n",
    "\n",
    "The gradient boosting classifier produced result as accurate as 76%, surpassing the other models. However, that is still too weak to have meaningful utility with this dataset.\n",
    ".\n",
    ".\n",
    ".\n",
    "If the random forest classifier in Notebook 3 was bad, the random forest regressor in Notebook 4 was abysmal. Nothing else needs to be said about it.\n",
    "\n",
    "Had the random forest regressor produced good results, it would still have some limitations. It can only be used one week in advance. Even though the average cancellation rate of bookings made less than one week in advance in known, it too can fluctuate significantly. Futhermore the model depends on a separate estimate of gross booking dmeand to be useful. \n",
    "\n",
    "\n",
    "\n",
    "For improved time series analysis results and futher research I propose the following:\n",
    "\n",
    "1. If data over a longer time period is available it should be used.\n",
    "\n",
    "2. A more sophisticated model such as SARIMA or SES should be used to difference the data seassonally and hopefully achieve a better forecasting result. \n",
    "\n",
    "3. The data offeres many opportunities to be explored at a more micro-scale. Models could be built for individual countries, agents, marketing channels, compnanies and more. "
   ]
  },
  {
   "cell_type": "code",
   "execution_count": null,
   "metadata": {},
   "outputs": [],
   "source": []
  }
 ],
 "metadata": {
  "kernelspec": {
   "display_name": "Python 3",
   "language": "python",
   "name": "python3"
  },
  "language_info": {
   "codemirror_mode": {
    "name": "ipython",
    "version": 3
   },
   "file_extension": ".py",
   "mimetype": "text/x-python",
   "name": "python",
   "nbconvert_exporter": "python",
   "pygments_lexer": "ipython3",
   "version": "3.7.3"
  }
 },
 "nbformat": 4,
 "nbformat_minor": 2
}
