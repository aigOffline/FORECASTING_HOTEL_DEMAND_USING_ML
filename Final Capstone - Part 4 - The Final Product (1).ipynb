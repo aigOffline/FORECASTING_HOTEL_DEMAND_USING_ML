{
 "cells": [
  {
   "cell_type": "markdown",
   "metadata": {},
   "source": [
    "# One-week forecast with Supervised Learning"
   ]
  },
  {
   "cell_type": "markdown",
   "metadata": {},
   "source": [
    "Now that I have built some intuition about what makes individual bookings more likely to be canceled, maybe I can make a product useful to the company.\n",
    "\n",
    "Many important logistical decisions in a hotel can likely only be made effectively with about a one week notice. Since time series analysis has not done anything to extend that window, perhaps another method can at least improve the quality of decisions withiin that window.\n",
    "\n",
    "Since about 80% of bookings are made with at least one week notice, I may be able to effectively model the cancellation rate for at least the upcoming week. "
   ]
  },
  {
   "cell_type": "code",
   "execution_count": 1,
   "metadata": {},
   "outputs": [],
   "source": [
    "#Lbraries\n",
    "import pandas as pd\n",
    "import matplotlib.pyplot as plt\n",
    "import numpy as np\n",
    "\n",
    "#A standardized datetime object will be needed for some analyses\n",
    "\n",
    "from datetime import datetime\n",
    "from datetime import date\n",
    "import calendar"
   ]
  },
  {
   "cell_type": "code",
   "execution_count": 2,
   "metadata": {},
   "outputs": [],
   "source": [
    "df = pd.read_csv('processed_hotel_bookings.csv')"
   ]
  },
  {
   "cell_type": "markdown",
   "metadata": {},
   "source": [
    "# Aggregation into weekly data"
   ]
  },
  {
   "cell_type": "markdown",
   "metadata": {},
   "source": [
    "Now I need to process the data into weekly aggregates."
   ]
  },
  {
   "cell_type": "code",
   "execution_count": 3,
   "metadata": {},
   "outputs": [],
   "source": [
    "df['w_date'] = df.arrival_date_year.astype(str) + ' ' + df.arrival_date_week_number.astype(str) \n",
    "df['w_date'] = df['w_date'].apply(lambda x: datetime.strptime(x + ' 0', \"%Y %W %w\"))"
   ]
  },
  {
   "cell_type": "code",
   "execution_count": 4,
   "metadata": {},
   "outputs": [],
   "source": [
    "w_deposit_df = pd.DataFrame(df[['deposit_score','w_date']].groupby(['w_date'], as_index=False).agg('mean'))\n",
    "w_deposit_df = w_deposit_df.rename(index=str, columns={\"deposit_score\": \"w_deposit\"})\n",
    "df = pd.merge(df,w_deposit_df,how='left',on='w_date')"
   ]
  },
  {
   "cell_type": "code",
   "execution_count": 5,
   "metadata": {},
   "outputs": [],
   "source": [
    "w_agent_df = pd.DataFrame(df[['agent_cancel_score','w_date']].groupby(['w_date'], as_index=False).agg('mean'))\n",
    "w_agent_df = w_agent_df.rename(index=str, columns={\"agent_cancel_score\": \"w_agent\"})\n",
    "df = pd.merge(df,w_agent_df,how='left',on='w_date')"
   ]
  },
  {
   "cell_type": "code",
   "execution_count": 6,
   "metadata": {},
   "outputs": [],
   "source": [
    "w_country_df = pd.DataFrame(df[['country_cancel_score','w_date']].groupby(['w_date'], as_index=False).agg('mean'))\n",
    "w_country_df = w_country_df.rename(index=str, columns={\"country_cancel_score\": \"w_country\"})\n",
    "df = pd.merge(df,w_country_df,how='left',on='w_date')"
   ]
  },
  {
   "cell_type": "code",
   "execution_count": 7,
   "metadata": {},
   "outputs": [],
   "source": [
    "w_market_df = pd.DataFrame(df[['market_segment_score','w_date']].groupby(['w_date'], as_index=False).agg('mean'))\n",
    "w_market_df = w_market_df.rename(index=str, columns={\"market_segment_score\": \"w_market\"})\n",
    "df = pd.merge(df,w_market_df,how='left',on='w_date')"
   ]
  },
  {
   "cell_type": "code",
   "execution_count": 8,
   "metadata": {},
   "outputs": [],
   "source": [
    "w_lead_time_df = pd.DataFrame(df[['lead_time','w_date']].groupby(['w_date'], as_index=False).agg('mean'))\n",
    "w_lead_time_df = w_lead_time_df.rename(index=str, columns={\"lead_time\": \"w_lead_time\"})\n",
    "df = pd.merge(df,w_lead_time_df,how='left',on='w_date')"
   ]
  },
  {
   "cell_type": "code",
   "execution_count": 9,
   "metadata": {},
   "outputs": [],
   "source": [
    "parking_df = pd.DataFrame(df[['required_car_parking_spaces','w_date']].groupby(['w_date'], as_index=False).agg('mean'))\n",
    "parking_df = parking_df.rename(index=str, columns={\"required_car_parking_spaces\": \"w_parking\"})\n",
    "df = pd.merge(df,parking_df,how='left',on='w_date')"
   ]
  },
  {
   "cell_type": "code",
   "execution_count": 10,
   "metadata": {},
   "outputs": [],
   "source": [
    "canceled_df = pd.DataFrame(df[['is_canceled','w_date']].groupby(['w_date'], as_index=False).agg('mean'))\n",
    "canceled_df = canceled_df.rename(index=str, columns={\"is_canceled\": \"w_canceled\"})\n",
    "df = pd.merge(df,canceled_df,how='left',on='w_date')"
   ]
  },
  {
   "cell_type": "code",
   "execution_count": 11,
   "metadata": {},
   "outputs": [],
   "source": [
    "features_df = df[['w_canceled','w_deposit','w_agent','w_country','w_market','w_parking','w_lead_time','w_date']]"
   ]
  },
  {
   "cell_type": "code",
   "execution_count": 12,
   "metadata": {},
   "outputs": [],
   "source": [
    "features_df = features_df.drop_duplicates()\n",
    "features_df = features_df.reset_index()"
   ]
  },
  {
   "cell_type": "code",
   "execution_count": 13,
   "metadata": {},
   "outputs": [],
   "source": [
    "features_df = features_df.drop(columns={'index'})"
   ]
  },
  {
   "cell_type": "markdown",
   "metadata": {},
   "source": [
    "# The Models"
   ]
  },
  {
   "cell_type": "code",
   "execution_count": 23,
   "metadata": {},
   "outputs": [],
   "source": [
    "#Model Evaluation Libraries\n",
    "from sklearn.metrics import classification_report\n",
    "from sklearn.model_selection import cross_val_score\n",
    "from sklearn.metrics import accuracy_score"
   ]
  },
  {
   "cell_type": "markdown",
   "metadata": {},
   "source": [
    "#### Test/Train Split "
   ]
  },
  {
   "cell_type": "code",
   "execution_count": 14,
   "metadata": {},
   "outputs": [],
   "source": [
    "train_df = features_df[features_df['w_date'] <= '2017-05-31']\n",
    "test_df = features_df[features_df['w_date'] > '2017-05-31']"
   ]
  },
  {
   "cell_type": "code",
   "execution_count": 15,
   "metadata": {},
   "outputs": [],
   "source": [
    "# Y is the target variable\n",
    "y_train = train_df['w_canceled']\n",
    "y_test = test_df['w_canceled']\n",
    "\n",
    "# X is the feature set\n",
    "x_train = train_df[['w_deposit','w_agent','w_country','w_market','w_parking','w_lead_time']]\n",
    "x_test = test_df[['w_deposit','w_agent','w_country','w_market','w_parking','w_lead_time']]"
   ]
  },
  {
   "cell_type": "markdown",
   "metadata": {},
   "source": [
    "## Random Forest"
   ]
  },
  {
   "cell_type": "code",
   "execution_count": 16,
   "metadata": {},
   "outputs": [],
   "source": [
    "#Random Forest Libraries\n",
    "from sklearn import ensemble\n",
    "from sklearn.model_selection import GridSearchCV"
   ]
  },
  {
   "cell_type": "code",
   "execution_count": 19,
   "metadata": {},
   "outputs": [
    {
     "data": {
      "text/plain": [
       "GridSearchCV(cv=5, error_score=nan,\n",
       "             estimator=RandomForestRegressor(bootstrap=True, ccp_alpha=0.0,\n",
       "                                             criterion='mse', max_depth=None,\n",
       "                                             max_features='auto',\n",
       "                                             max_leaf_nodes=None,\n",
       "                                             max_samples=None,\n",
       "                                             min_impurity_decrease=0.0,\n",
       "                                             min_impurity_split=None,\n",
       "                                             min_samples_leaf=1,\n",
       "                                             min_samples_split=2,\n",
       "                                             min_weight_fraction_leaf=0.0,\n",
       "                                             n_estimators=100, n_jobs=-1,\n",
       "                                             oob_score=False, random_state=None,\n",
       "                                             verbose=0, warm_start=False),\n",
       "             iid='deprecated', n_jobs=None,\n",
       "             param_grid={'criterion': ['mse', 'mae'],\n",
       "                         'max_depth': [4, 5, 6, 7, 8],\n",
       "                         'max_features': ['auto', 'sqrt', 'log2'],\n",
       "                         'n_estimators': [200, 500]},\n",
       "             pre_dispatch='2*n_jobs', refit=True, return_train_score=False,\n",
       "             scoring=None, verbose=0)"
      ]
     },
     "execution_count": 19,
     "metadata": {},
     "output_type": "execute_result"
    }
   ],
   "source": [
    "rfc = ensemble.RandomForestRegressor(n_jobs=-1)\n",
    "\n",
    "#Hyper-parameter tuning\n",
    "param_grid = { \n",
    "    'n_estimators': [200, 500],\n",
    "    'max_features': ['auto', 'sqrt', 'log2'],\n",
    "    'max_depth' : [4,5,6,7,8],\n",
    "    'criterion' :['mse', 'mae']\n",
    "}\n",
    "\n",
    "CV_rfc = GridSearchCV(estimator=rfc, param_grid=param_grid, cv= 5)\n",
    "CV_rfc.fit(x_train, y_train)"
   ]
  },
  {
   "cell_type": "code",
   "execution_count": 20,
   "metadata": {},
   "outputs": [
    {
     "data": {
      "text/plain": [
       "{'criterion': 'mae',\n",
       " 'max_depth': 6,\n",
       " 'max_features': 'auto',\n",
       " 'n_estimators': 200}"
      ]
     },
     "execution_count": 20,
     "metadata": {},
     "output_type": "execute_result"
    }
   ],
   "source": [
    "CV_rfc.best_params_"
   ]
  },
  {
   "cell_type": "code",
   "execution_count": 27,
   "metadata": {},
   "outputs": [
    {
     "name": "stdout",
     "output_type": "stream",
     "text": [
      "[-0.31987441 -1.53971658 -0.13743912 -0.4977748  -8.23450599]\n"
     ]
    }
   ],
   "source": [
    "rfc = ensemble.RandomForestRegressor(n_estimators=200, max_features='auto', max_depth=6, criterion='mae')\n",
    "\n",
    "rfc.fit(x_train, y_train)\n",
    "\n",
    "y_pred = rfc.predict(x_test)\n",
    "\n",
    "cxval = cross_val_score(rfc, x_test, y_test, cv=5)\n",
    "\n",
    "print(cxval)"
   ]
  },
  {
   "cell_type": "markdown",
   "metadata": {},
   "source": [
    "## Gradient Boosting"
   ]
  },
  {
   "cell_type": "markdown",
   "metadata": {},
   "source": [
    "The results are so bad that no hyperparameter tuning will salvage them."
   ]
  },
  {
   "cell_type": "code",
   "execution_count": 28,
   "metadata": {},
   "outputs": [],
   "source": [
    "#Libraries\n",
    "import scipy\n",
    "from sklearn import ensemble\n",
    "from IPython.display import Image\n",
    "import pydotplus\n",
    "import graphviz"
   ]
  },
  {
   "cell_type": "markdown",
   "metadata": {},
   "source": [
    "#### Max Depth 2, default parameters"
   ]
  },
  {
   "cell_type": "code",
   "execution_count": 31,
   "metadata": {
    "scrolled": true
   },
   "outputs": [
    {
     "name": "stdout",
     "output_type": "stream",
     "text": [
      "Weak learner 0 R^2: -4.502766697499152\n",
      "Weak learner 20 R^2: -4.502766697499156\n"
     ]
    },
    {
     "data": {
      "image/png": "[encoded data removed]",
      "text/plain": [
       "<Figure size 432x288 with 1 Axes>"
      ]
     },
     "metadata": {
      "needs_background": "light"
     },
     "output_type": "display_data"
    }
   ],
   "source": [
    "# Store values from loops.\n",
    "preds = pd.DataFrame()\n",
    "labels = []\n",
    "\n",
    "uniquex = df['w_canceled'].unique()\n",
    "\n",
    "for m in range(0, 21):\n",
    "    \n",
    "    # Initialize and fit the tree. Set the max depth to 2.\n",
    "    gradient_boost = ensemble.GradientBoostingRegressor(max_depth=2)\n",
    "    gradient_boost.fit(x_train,y_train)\n",
    "    \n",
    "    # Get and store predicted values.\n",
    "    y_pred = gradient_boost.predict(x_test)\n",
    "    preds['pred{}'.format(m)] = y_pred\n",
    "    \n",
    "    # Residuals.\n",
    "    residuals = y_test - y_pred\n",
    "\n",
    "    # Output every 20 iterations.\n",
    "    if m % 20 == 0:\n",
    "        print('Weak learner {} R^2: {}'.format(m, gradient_boost.score(x_test, y_test)))\n",
    "        labels = labels + [m]\n",
    "        bestpred = preds.sum(axis=1)\n",
    "        plt.plot(uniquex, np.poly1d(np.polyfit(test_df['w_canceled'], bestpred, 1))(uniquex))\n",
    "       \n",
    "plt.legend(labels)\n",
    "plt.xlabel('Original')\n",
    "plt.ylabel('Predicted')\n",
    "plt.show()\n",
    "predicted = preds.sum(axis=1)"
   ]
  },
  {
   "cell_type": "markdown",
   "metadata": {},
   "source": [
    "### Notebook Summary"
   ]
  },
  {
   "cell_type": "markdown",
   "metadata": {},
   "source": [
    "In this notebook I tried to bridge the divide between my microspic look in Notebok 3 looking at singular bookings, and my macroscopic look in Notebook 2 looking at a Time Series Analysis. \n",
    "\n",
    "I aggregated the features that I engineered in Notebook 3 into weekly values by mean, and attempted to predict the cancellation rate for a given week. \n",
    "\n",
    "The results were absolutely useless, too a degree far beyond the models in Notebook 3.\n",
    "\n",
    "Even if the results had been quite good, there would still be some missing pieces in the modeling pipeline:\n",
    "\n",
    "- Only 80% of bookings are made with one-week lead time. \n",
    "\n",
    "- Of the 20% of bookings made with less than a week lead time, 36% are canceled.\n",
    "\n",
    "Had the result been good, perhaps someone with greater domain knowledge or who has a better forecast for booking demand than what I have provided, could have used the model profitably."
   ]
  }
 ],
 "metadata": {
  "kernelspec": {
   "display_name": "Python 3",
   "language": "python",
   "name": "python3"
  },
  "language_info": {
   "codemirror_mode": {
    "name": "ipython",
    "version": 3
   },
   "file_extension": ".py",
   "mimetype": "text/x-python",
   "name": "python",
   "nbconvert_exporter": "python",
   "pygments_lexer": "ipython3",
   "version": "3.7.3"
  }
 },
 "nbformat": 4,
 "nbformat_minor": 2
}
