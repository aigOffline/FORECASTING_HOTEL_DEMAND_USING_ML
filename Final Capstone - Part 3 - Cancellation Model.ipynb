{
 "cells": [
  {
   "cell_type": "markdown",
   "metadata": {},
   "source": [
    "# An attempt at forecasting booking demand using traditional supervised learning techniques"
   ]
  },
  {
   "cell_type": "markdown",
   "metadata": {},
   "source": [
    "Since time series analysis did not work out as I had hoped, I will try to provide something of value to the company with traditional supervised learning models.\n",
    "\n",
    "In my exploratory analysis, I noted that although a significant number of bookings are made with no lead time or little lead time, about 80% of the bookings were made with a lead time greater than one week. \n",
    "\n",
    "I think that this percentage of bookings with a lead time over a week affords the opportunity to at least forecast final booking amounts with a high degree of accuray for at least one week out. I believe this because I think the data we have is enough to very easily model cancellation rates to a high degree of accuracy. Furthermore I think a one week forecast is enought time to profitably inform business operational and logistic decisions. \n",
    "\n",
    "In order to provide this service, I will first need to be able model booking cancellations.\n",
    "\n",
    "I will do that in this notebook.\n",
    "\n",
    "Below, I will demonstrate that I can predict if an individual booking will be canceled with 91% accuracy."
   ]
  },
  {
   "cell_type": "markdown",
   "metadata": {},
   "source": [
    "### General Purpose Data Preparation\n",
    "(See Introduction and Exporatory Data Analysis Notebook)"
   ]
  },
  {
   "cell_type": "code",
   "execution_count": 1,
   "metadata": {},
   "outputs": [],
   "source": [
    "#Importing libraries and data:\n",
    "import numpy as np\n",
    "import pandas as pd\n",
    "import scipy\n",
    "import seaborn as sns\n",
    "import matplotlib.pyplot as plt\n",
    "%matplotlib inline\n",
    "\n",
    "import warnings\n",
    "warnings.filterwarnings('ignore')"
   ]
  },
  {
   "cell_type": "code",
   "execution_count": 2,
   "metadata": {},
   "outputs": [],
   "source": [
    "#Import to dataframe\n",
    "df = pd.read_csv('hotel_bookings.csv')\n",
    "\n",
    "#There are two hotels in the data set.\n",
    "#For increased model accuracy and applicability, I will examine only the Resort Hotel.\n",
    "df = df[df['hotel'] == 'Resort Hotel']"
   ]
  },
  {
   "cell_type": "code",
   "execution_count": 3,
   "metadata": {},
   "outputs": [
    {
     "name": "stdout",
     "output_type": "stream",
     "text": [
      "Series([], Name: country, dtype: object)\n"
     ]
    }
   ],
   "source": [
    "#Drop rows missing country data.\n",
    "df = df.dropna(subset=['country'])\n",
    "\n",
    "#Verify\n",
    "print(df['country'][df['country'].isna()].head(1))\n",
    "\n",
    "#Reset index for later dimensionality reduction algorithms.\n",
    "df = df.reset_index()"
   ]
  },
  {
   "cell_type": "code",
   "execution_count": 4,
   "metadata": {},
   "outputs": [
    {
     "name": "stdout",
     "output_type": "stream",
     "text": [
      "max: 535.0\n",
      "min: 1.0\n",
      "0    False\n",
      "Name: agent, dtype: bool\n"
     ]
    }
   ],
   "source": [
    "#AGENT: fill missing values with placeholder for self-booking\n",
    "\n",
    "#Decide on placeholder value\n",
    "print('max:', df.agent.max())\n",
    "print('min:', df.agent.min())\n",
    "\n",
    "#The placeholder for self-booking will be the max value plus one: 536\n",
    "\n",
    "#Fill\n",
    "df['agent'] = df['agent'].fillna(536.0)\n",
    "\n",
    "#Verify\n",
    "print(df['agent'].isna().head(1))\n",
    "\n",
    "#New derived feature\n",
    "df['self_booked'] = df['agent'] != 536.0"
   ]
  },
  {
   "cell_type": "code",
   "execution_count": 5,
   "metadata": {},
   "outputs": [
    {
     "name": "stdout",
     "output_type": "stream",
     "text": [
      "max: 543.0\n",
      "min: 6.0\n",
      "0    False\n",
      "Name: company, dtype: bool\n"
     ]
    }
   ],
   "source": [
    "#COMPANY: fill missing values with placeholder for no company\n",
    "print('max:', df.company.max())\n",
    "print('min:', df.company.min())\n",
    "\n",
    "#There is no company id \"1\", we can use that as our placeholder\n",
    "\n",
    "#Fill\n",
    "df['company'] = df['company'].fillna(5.0)\n",
    "\n",
    "#Verify\n",
    "print(df['company'].isna().head(1))\n",
    "\n",
    "#New derived feature\n",
    "df['on_business'] = df['company'] != 5.0"
   ]
  },
  {
   "cell_type": "markdown",
   "metadata": {},
   "source": [
    "### EDA: Multivariate Analysis for Cancellation Modeling"
   ]
  },
  {
   "cell_type": "markdown",
   "metadata": {},
   "source": [
    "#### Multivariate Analysis: Data Manipulation\n",
    "\n",
    "Much of the provided data is categorical and cannot be analyzed for correlation in it's current format. However, by calculating a cancellation rate for each value of each categorical variable, we can make some potentially useful features."
   ]
  },
  {
   "cell_type": "code",
   "execution_count": 6,
   "metadata": {},
   "outputs": [],
   "source": [
    "#Categorical to numerical\n",
    "\n",
    "#Customer\n",
    "\n",
    "#We need to be careful not to scew too much toward cancellation, many customers likely only booked\n",
    "#once and canceled.\n",
    "\n",
    "#For all customer with 2 or more bookings, customer_cancel_score will show the percentage of their bookings that were fulfilled. Customer only one booking. will be given a score of 1.\n",
    "df['customer_cancel_score'] = np.round(np.where(df['is_repeated_guest'] > 0, df['previous_bookings_not_canceled']/(df['previous_bookings_not_canceled'] + df['previous_cancellations']), 0), 1)"
   ]
  },
  {
   "cell_type": "code",
   "execution_count": 7,
   "metadata": {},
   "outputs": [],
   "source": [
    "#Other categorical variables\n",
    "\n",
    "agent_df = pd.DataFrame(df[['is_canceled','agent']].groupby('agent', as_index=False).agg('mean'))\n",
    "agent_df = agent_df.rename(index=str, columns={\"is_canceled\": \"agent_cancel_score\"})\n",
    "df = pd.merge(df,agent_df,how='left',on=['agent'])\n",
    "\n",
    "company_df = pd.DataFrame(df[['is_canceled','company']].groupby('company', as_index=False).agg('mean'))\n",
    "company_df = company_df.rename(index=str, columns={\"is_canceled\": \"company_cancel_score\"})\n",
    "df = pd.merge(df,company_df,how='left',on=['company'])\n",
    "\n",
    "country_df = pd.DataFrame(df[['is_canceled','country']].groupby('country', as_index=False).agg('mean'))\n",
    "country_df = country_df.rename(index=str, columns={\"is_canceled\": \"country_cancel_score\"})\n",
    "df = pd.merge(df,country_df,how='left',on=['country'])"
   ]
  },
  {
   "cell_type": "code",
   "execution_count": 8,
   "metadata": {},
   "outputs": [
    {
     "data": {
      "text/html": [
       "<div>\n",
       "<style scoped>\n",
       "    .dataframe tbody tr th:only-of-type {\n",
       "        vertical-align: middle;\n",
       "    }\n",
       "\n",
       "    .dataframe tbody tr th {\n",
       "        vertical-align: top;\n",
       "    }\n",
       "\n",
       "    .dataframe thead th {\n",
       "        text-align: right;\n",
       "    }\n",
       "</style>\n",
       "<table border=\"1\" class=\"dataframe\">\n",
       "  <thead>\n",
       "    <tr style=\"text-align: right;\">\n",
       "      <th></th>\n",
       "      <th>agent</th>\n",
       "      <th>agent_cancel_score</th>\n",
       "      <th>company</th>\n",
       "      <th>company_cancel_score</th>\n",
       "      <th>country</th>\n",
       "      <th>country_cancel_score</th>\n",
       "    </tr>\n",
       "  </thead>\n",
       "  <tbody>\n",
       "    <tr>\n",
       "      <th>0</th>\n",
       "      <td>536.0</td>\n",
       "      <td>0.176709</td>\n",
       "      <td>5.0</td>\n",
       "      <td>0.29151</td>\n",
       "      <td>PRT</td>\n",
       "      <td>0.421894</td>\n",
       "    </tr>\n",
       "    <tr>\n",
       "      <th>1</th>\n",
       "      <td>536.0</td>\n",
       "      <td>0.176709</td>\n",
       "      <td>5.0</td>\n",
       "      <td>0.29151</td>\n",
       "      <td>PRT</td>\n",
       "      <td>0.421894</td>\n",
       "    </tr>\n",
       "    <tr>\n",
       "      <th>2</th>\n",
       "      <td>536.0</td>\n",
       "      <td>0.176709</td>\n",
       "      <td>5.0</td>\n",
       "      <td>0.29151</td>\n",
       "      <td>GBR</td>\n",
       "      <td>0.130760</td>\n",
       "    </tr>\n",
       "    <tr>\n",
       "      <th>3</th>\n",
       "      <td>304.0</td>\n",
       "      <td>0.000000</td>\n",
       "      <td>5.0</td>\n",
       "      <td>0.29151</td>\n",
       "      <td>GBR</td>\n",
       "      <td>0.130760</td>\n",
       "    </tr>\n",
       "    <tr>\n",
       "      <th>4</th>\n",
       "      <td>240.0</td>\n",
       "      <td>0.395770</td>\n",
       "      <td>5.0</td>\n",
       "      <td>0.29151</td>\n",
       "      <td>GBR</td>\n",
       "      <td>0.130760</td>\n",
       "    </tr>\n",
       "    <tr>\n",
       "      <th>5</th>\n",
       "      <td>240.0</td>\n",
       "      <td>0.395770</td>\n",
       "      <td>5.0</td>\n",
       "      <td>0.29151</td>\n",
       "      <td>GBR</td>\n",
       "      <td>0.130760</td>\n",
       "    </tr>\n",
       "    <tr>\n",
       "      <th>6</th>\n",
       "      <td>536.0</td>\n",
       "      <td>0.176709</td>\n",
       "      <td>5.0</td>\n",
       "      <td>0.29151</td>\n",
       "      <td>PRT</td>\n",
       "      <td>0.421894</td>\n",
       "    </tr>\n",
       "    <tr>\n",
       "      <th>7</th>\n",
       "      <td>303.0</td>\n",
       "      <td>0.000000</td>\n",
       "      <td>5.0</td>\n",
       "      <td>0.29151</td>\n",
       "      <td>PRT</td>\n",
       "      <td>0.421894</td>\n",
       "    </tr>\n",
       "    <tr>\n",
       "      <th>8</th>\n",
       "      <td>240.0</td>\n",
       "      <td>0.395770</td>\n",
       "      <td>5.0</td>\n",
       "      <td>0.29151</td>\n",
       "      <td>PRT</td>\n",
       "      <td>0.421894</td>\n",
       "    </tr>\n",
       "    <tr>\n",
       "      <th>9</th>\n",
       "      <td>15.0</td>\n",
       "      <td>0.385892</td>\n",
       "      <td>5.0</td>\n",
       "      <td>0.29151</td>\n",
       "      <td>PRT</td>\n",
       "      <td>0.421894</td>\n",
       "    </tr>\n",
       "    <tr>\n",
       "      <th>10</th>\n",
       "      <td>240.0</td>\n",
       "      <td>0.395770</td>\n",
       "      <td>5.0</td>\n",
       "      <td>0.29151</td>\n",
       "      <td>PRT</td>\n",
       "      <td>0.421894</td>\n",
       "    </tr>\n",
       "    <tr>\n",
       "      <th>11</th>\n",
       "      <td>240.0</td>\n",
       "      <td>0.395770</td>\n",
       "      <td>5.0</td>\n",
       "      <td>0.29151</td>\n",
       "      <td>PRT</td>\n",
       "      <td>0.421894</td>\n",
       "    </tr>\n",
       "    <tr>\n",
       "      <th>12</th>\n",
       "      <td>240.0</td>\n",
       "      <td>0.395770</td>\n",
       "      <td>5.0</td>\n",
       "      <td>0.29151</td>\n",
       "      <td>USA</td>\n",
       "      <td>0.150313</td>\n",
       "    </tr>\n",
       "    <tr>\n",
       "      <th>13</th>\n",
       "      <td>241.0</td>\n",
       "      <td>0.137369</td>\n",
       "      <td>5.0</td>\n",
       "      <td>0.29151</td>\n",
       "      <td>ESP</td>\n",
       "      <td>0.215062</td>\n",
       "    </tr>\n",
       "    <tr>\n",
       "      <th>14</th>\n",
       "      <td>241.0</td>\n",
       "      <td>0.137369</td>\n",
       "      <td>5.0</td>\n",
       "      <td>0.29151</td>\n",
       "      <td>PRT</td>\n",
       "      <td>0.421894</td>\n",
       "    </tr>\n",
       "  </tbody>\n",
       "</table>\n",
       "</div>"
      ],
      "text/plain": [
       "    agent  agent_cancel_score  company  company_cancel_score country  \\\n",
       "0   536.0            0.176709      5.0               0.29151     PRT   \n",
       "1   536.0            0.176709      5.0               0.29151     PRT   \n",
       "2   536.0            0.176709      5.0               0.29151     GBR   \n",
       "3   304.0            0.000000      5.0               0.29151     GBR   \n",
       "4   240.0            0.395770      5.0               0.29151     GBR   \n",
       "5   240.0            0.395770      5.0               0.29151     GBR   \n",
       "6   536.0            0.176709      5.0               0.29151     PRT   \n",
       "7   303.0            0.000000      5.0               0.29151     PRT   \n",
       "8   240.0            0.395770      5.0               0.29151     PRT   \n",
       "9    15.0            0.385892      5.0               0.29151     PRT   \n",
       "10  240.0            0.395770      5.0               0.29151     PRT   \n",
       "11  240.0            0.395770      5.0               0.29151     PRT   \n",
       "12  240.0            0.395770      5.0               0.29151     USA   \n",
       "13  241.0            0.137369      5.0               0.29151     ESP   \n",
       "14  241.0            0.137369      5.0               0.29151     PRT   \n",
       "\n",
       "    country_cancel_score  \n",
       "0               0.421894  \n",
       "1               0.421894  \n",
       "2               0.130760  \n",
       "3               0.130760  \n",
       "4               0.130760  \n",
       "5               0.130760  \n",
       "6               0.421894  \n",
       "7               0.421894  \n",
       "8               0.421894  \n",
       "9               0.421894  \n",
       "10              0.421894  \n",
       "11              0.421894  \n",
       "12              0.150313  \n",
       "13              0.215062  \n",
       "14              0.421894  "
      ]
     },
     "execution_count": 8,
     "metadata": {},
     "output_type": "execute_result"
    }
   ],
   "source": [
    "#Demonstration:\n",
    "#Let's see what we've made!\n",
    "df[['agent','agent_cancel_score','company','company_cancel_score','country','country_cancel_score']].head(15)"
   ]
  },
  {
   "cell_type": "code",
   "execution_count": 9,
   "metadata": {},
   "outputs": [],
   "source": [
    "#More variables\n",
    "distribution_channel_df = pd.DataFrame(df[['is_canceled','distribution_channel']].groupby('distribution_channel', as_index=False).agg('mean'))\n",
    "distribution_channel_df = distribution_channel_df.rename(index=str, columns={\"is_canceled\": \"distribution_channel_score\"})\n",
    "df = pd.merge(df,distribution_channel_df,how='left',on=['distribution_channel'])\n",
    "\n",
    "market_segment_df = pd.DataFrame(df[['is_canceled','market_segment']].groupby('market_segment', as_index=False).agg('mean'))\n",
    "market_segment_df = market_segment_df.rename(index=str, columns={\"is_canceled\": \"market_segment_score\"})\n",
    "df = pd.merge(df,market_segment_df,how='left',on=['market_segment']) \n",
    "\n",
    "meal_df = pd.DataFrame(df[['is_canceled','meal']].groupby('meal', as_index=False).agg('mean'))\n",
    "meal_df = meal_df.rename(index=str, columns={\"is_canceled\": \"meal_score\"})\n",
    "df = pd.merge(df,meal_df,how='left',on=['meal'])\n",
    "\n",
    "deposit_type_df = pd.DataFrame(df[['is_canceled','deposit_type']].groupby('deposit_type', as_index=False).agg('mean'))\n",
    "deposit_type_df = deposit_type_df.rename(index=str, columns={\"is_canceled\": \"deposit_score\"})\n",
    "df = pd.merge(df,deposit_type_df,how='left',on=['deposit_type'])"
   ]
  },
  {
   "cell_type": "markdown",
   "metadata": {},
   "source": [
    "### Correlation to target: is_cancelled for round one of feature selection"
   ]
  },
  {
   "cell_type": "code",
   "execution_count": 10,
   "metadata": {},
   "outputs": [
    {
     "data": {
      "image/png": "[encoded data removed]",
      "text/plain": [
       "<Figure size 432x288 with 1 Axes>"
      ]
     },
     "metadata": {
      "needs_background": "light"
     },
     "output_type": "display_data"
    },
    {
     "name": "stdout",
     "output_type": "stream",
     "text": [
      "                                       0\n",
      "is_canceled                     1.000000\n",
      "agent_cancel_score              0.346178\n",
      "deposit_score                   0.323021\n",
      "country_cancel_score            0.302156\n",
      "market_segment_score            0.252172\n",
      "lead_time                       0.226453\n",
      "distribution_channel_score      0.132984\n",
      "company_cancel_score            0.115995\n",
      "self_booked                     0.114449\n",
      "previous_cancellations          0.113666\n",
      "meal_score                      0.110546\n",
      "adr                             0.107251\n",
      "children                        0.080713\n",
      "adults                          0.077193\n",
      "stays_in_week_nights            0.076766\n",
      "stays_in_weekend_nights         0.076345\n",
      "arrival_date_year               0.043207\n",
      "arrival_date_week_number        0.020394\n",
      "arrival_date_day_of_month      -0.009686\n",
      "babies                         -0.023487\n",
      "days_in_waiting_list           -0.036766\n",
      "previous_bookings_not_canceled -0.073661\n",
      "agent                          -0.077530\n",
      "company                        -0.081732\n",
      "on_business                    -0.092469\n",
      "total_of_special_requests      -0.103126\n",
      "is_repeated_guest              -0.104785\n",
      "customer_cancel_score          -0.109271\n",
      "booking_changes                -0.115909\n",
      "required_car_parking_spaces    -0.243983\n",
      "index                          -0.600521\n"
     ]
    }
   ],
   "source": [
    "is_canceled_corr = pd.DataFrame(df.corrwith(df['is_canceled'])).sort_values(by=0, ascending=0)\n",
    "\n",
    "plt.bar(is_canceled_corr.index, height = is_canceled_corr[0])\n",
    "plt.xticks(is_canceled_corr.index, rotation='vertical', fontsize='8')\n",
    "plt.show()\n",
    "\n",
    "print(is_canceled_corr)"
   ]
  },
  {
   "cell_type": "markdown",
   "metadata": {},
   "source": [
    "# Before going on let's analyze this chart:\n",
    "\n",
    "Some of the most highly correlated features are features that were derived from the data\n",
    "manipulation done to get usable data from categorical features.\n",
    "\n",
    "The highest correlated variable are, in order:\n",
    "\n",
    "        LEAD_TIME_SCORE             0.381711\n",
    "        AGENT_CANCEL_SCORE          0.346178\n",
    "        DEPOSIT_SCORE               0.323021\n",
    "        COUNTRY_CANCEL_SCORE        0.302156\n",
    "        MARKET_SEGMENT_SCORE        0.252172\n",
    "    required_car_parking_spaces    -0.243983\n",
    "    lead_time                       0.226453\n",
    "\n",
    "The remaining features are much less correlated to is_cancelled than these."
   ]
  },
  {
   "cell_type": "markdown",
   "metadata": {},
   "source": [
    "## Addressing Outliers"
   ]
  },
  {
   "cell_type": "code",
   "execution_count": 11,
   "metadata": {},
   "outputs": [
    {
     "name": "stdout",
     "output_type": "stream",
     "text": [
      "The score threshold for  is_canceled  is: 2\n",
      "Number of outliers is: 0\n",
      "The score threshold for  agent_cancel_score  is: 2\n",
      "Number of outliers is: 206\n",
      "The score threshold for  deposit_score  is: 2\n",
      "Number of outliers is: 1861\n",
      "The score threshold for  country_cancel_score  is: 2\n",
      "Number of outliers is: 0\n",
      "The score threshold for  market_segment_score  is: 2\n",
      "Number of outliers is: 0\n",
      "The score threshold for  lead_time  is: 2\n",
      "Number of outliers is: 107\n",
      "The score threshold for  required_car_parking_spaces  is: 2\n",
      "Number of outliers is: 5384\n",
      "The score threshold for  index  is: 2\n",
      "Number of outliers is: 0\n"
     ]
    }
   ],
   "source": [
    "#Since all of the variables we have elected to include are at or above 14% corrrelation to is_cancelled\n",
    "#there is no need to analyze the others for outliers.\n",
    "column_list_one = is_canceled_corr[is_canceled_corr > 0.20].dropna().index\n",
    "column_list_two = is_canceled_corr[is_canceled_corr < -0.20].dropna().index\n",
    "\n",
    "column_list = column_list_one.append(column_list_two)\n",
    "\n",
    "#Non-ratio variables can't have outliers and must be filtered out, we will also filter out the\n",
    "#variables that we don't intend to use because of weak correlation.\n",
    "                 \n",
    "#We'll use the Tukey Interquartile Range method. \n",
    "\n",
    "for i in column_list:\n",
    "    q75, q25 = np.percentile(df[i], [75 ,25])\n",
    "    iqr = q75 - q25\n",
    "    threshold = 2\n",
    "    min_val = q25 - (iqr*threshold)\n",
    "    max_val = q75 + (iqr*threshold)\n",
    "    print(\"The score threshold for \", i, \" is: {}\".format(threshold))\n",
    "    print(\"Number of outliers is: {}\".format(\n",
    "        len((np.where((df[i] > max_val) \n",
    "            | (df[i] < min_val))[0]))\n",
    "    ))"
   ]
  },
  {
   "cell_type": "markdown",
   "metadata": {},
   "source": [
    "Do we have an outlier problem?\n",
    "\n",
    "Of the variables that we may use the following have some outliers at a threshold of 2 IQR:\n",
    "\n",
    "lead_time_score, agent_cancel_score, lead_time, deposit_score, required_car_parking_spaces\n",
    "\n",
    "Deposit_score doesn't really have outliers. As discussed above, there are only 3 different \n",
    "values, each of importance to the model. \n",
    "\n",
    "Lead_time is redundant to lead_time_score\n",
    "\n",
    "This leaves: lead_time_score, agent_cancel_score, lead_time, and required_car_parking_spaces"
   ]
  },
  {
   "cell_type": "markdown",
   "metadata": {},
   "source": [
    "### Agent Cancel Score\n",
    "\n",
    "Agent cancel score did not have a lot of outliers 202/39956 = 0.5%. Transforming the data to eliminate outliers did not improve correlation.\n",
    "\n",
    "I feel it is best to leave the data as it is, as agents have more and more booking with the hotel, the outliers that are of the most importance would eliminate themseles automatically."
   ]
  },
  {
   "cell_type": "code",
   "execution_count": 12,
   "metadata": {
    "scrolled": true
   },
   "outputs": [
    {
     "name": "stdout",
     "output_type": "stream",
     "text": [
      "count    39596.000000\n",
      "mean         0.279750\n",
      "std          0.155393\n",
      "min          0.000000\n",
      "25%          0.176709\n",
      "50%          0.224490\n",
      "75%          0.395770\n",
      "max          1.000000\n",
      "Name: agent_cancel_score, dtype: float64\n",
      "0.395770    13854\n",
      "0.176709     7883\n",
      "0.179748     2854\n",
      "0.137369     1718\n",
      "0.081836     1002\n",
      "0.177174      920\n",
      "0.334190      778\n",
      "0.090000      600\n",
      "0.441905      525\n",
      "0.054475      514\n",
      "Name: agent_cancel_score, dtype: int64\n",
      "corr. w/ no change: 0.34617772922533435\n"
     ]
    },
    {
     "data": {
      "image/png": "[encoded data removed]",
      "text/plain": [
       "<Figure size 432x288 with 1 Axes>"
      ]
     },
     "metadata": {
      "needs_background": "light"
     },
     "output_type": "display_data"
    },
    {
     "name": "stdout",
     "output_type": "stream",
     "text": [
      "corr. w/ sqrt transformation: 0.3365972542322926\n"
     ]
    },
    {
     "data": {
      "image/png": "[encoded data removed]",
      "text/plain": [
       "<Figure size 432x288 with 1 Axes>"
      ]
     },
     "metadata": {
      "needs_background": "light"
     },
     "output_type": "display_data"
    },
    {
     "name": "stdout",
     "output_type": "stream",
     "text": [
      "corr. w/ 4thRt transformation: 0.3067989396370724\n"
     ]
    },
    {
     "data": {
      "image/png": "[encoded data removed]",
      "text/plain": [
       "<Figure size 432x288 with 1 Axes>"
      ]
     },
     "metadata": {
      "needs_background": "light"
     },
     "output_type": "display_data"
    }
   ],
   "source": [
    "print(df.agent_cancel_score.describe())\n",
    "\n",
    "print(df.agent_cancel_score.value_counts().head(10))\n",
    "\n",
    "#The average agent cancels about 37% of the time!\n",
    "\n",
    "#There is a small but significant number of agents who cancel more than 70% of the time.\n",
    "#We can't write them out of our analysis.\n",
    "print('corr. w/ no change:', df.is_canceled.corr(df.agent_cancel_score))\n",
    "plt.hist(df.agent_cancel_score)\n",
    "plt.show()\n",
    "\n",
    "#What does it look like transformed?\n",
    "print('corr. w/ sqrt transformation:', df.is_canceled.corr(np.sqrt(df.agent_cancel_score)))\n",
    "plt.hist(np.sqrt(df.agent_cancel_score))\n",
    "plt.show()\n",
    "\n",
    "#What about twice?\n",
    "print('corr. w/ 4thRt transformation:', df.is_canceled.corr(np.sqrt(np.sqrt(df.agent_cancel_score))))\n",
    "plt.hist(np.sqrt(np.sqrt(df.agent_cancel_score)))\n",
    "plt.show()"
   ]
  },
  {
   "cell_type": "markdown",
   "metadata": {},
   "source": [
    "### Lead Time\n",
    "\n",
    "Lead time has even fewer outliers than agent_cancel_score, with only 107/39956 or 0.26%.\n",
    "\n",
    "Transforming the data produces a higher correlation though. \n",
    "\n",
    "We can run the model later as it is, or with the transformed values."
   ]
  },
  {
   "cell_type": "code",
   "execution_count": 13,
   "metadata": {},
   "outputs": [
    {
     "name": "stdout",
     "output_type": "stream",
     "text": [
      "count    39596.000000\n",
      "mean        93.438857\n",
      "std         97.387321\n",
      "min          0.000000\n",
      "25%         11.000000\n",
      "50%         59.000000\n",
      "75%        155.000000\n",
      "max        737.000000\n",
      "Name: lead_time, dtype: float64\n",
      "0     3122\n",
      "1     1531\n",
      "2      904\n",
      "3      780\n",
      "4      645\n",
      "5      580\n",
      "7      552\n",
      "6      515\n",
      "10     388\n",
      "11     378\n",
      "8      375\n",
      "9      361\n",
      "12     338\n",
      "17     313\n",
      "40     308\n",
      "14     300\n",
      "13     279\n",
      "16     275\n",
      "24     274\n",
      "15     271\n",
      "Name: lead_time, dtype: int64\n",
      "corr. w/ no change: 0.2264526564058416\n"
     ]
    },
    {
     "data": {
      "image/png": "[encoded data removed]",
      "text/plain": [
       "<Figure size 432x288 with 1 Axes>"
      ]
     },
     "metadata": {
      "needs_background": "light"
     },
     "output_type": "display_data"
    },
    {
     "name": "stdout",
     "output_type": "stream",
     "text": [
      "corr. w/ no change: 0.26736483803463224\n"
     ]
    },
    {
     "data": {
      "image/png": "[encoded data removed]",
      "text/plain": [
       "<Figure size 432x288 with 1 Axes>"
      ]
     },
     "metadata": {
      "needs_background": "light"
     },
     "output_type": "display_data"
    },
    {
     "name": "stdout",
     "output_type": "stream",
     "text": [
      "corr. w/ 4thRt transformation: 0.27867542949584123\n"
     ]
    },
    {
     "data": {
      "image/png": "[encoded data removed]",
      "text/plain": [
       "<Figure size 432x288 with 1 Axes>"
      ]
     },
     "metadata": {
      "needs_background": "light"
     },
     "output_type": "display_data"
    }
   ],
   "source": [
    "#Lead time is somewhat correlated and has some outliers at a threshold of 2 IQR.\n",
    "print(df.lead_time.describe())\n",
    "\n",
    "print(df.lead_time.value_counts().head(20))\n",
    "\n",
    "print('corr. w/ no change:', df.is_canceled.corr(df.lead_time))\n",
    "plt.hist(df.lead_time)\n",
    "plt.show()\n",
    "\n",
    "#Not exactly normal, but better.\n",
    "print('corr. w/ no change:', df.is_canceled.corr(np.sqrt(df.lead_time)))\n",
    "plt.hist(np.sqrt(df.lead_time))\n",
    "plt.show()\n",
    "\n",
    "#What about twice?\n",
    "\n",
    "#This one is a much more normal distribution.\n",
    "print('corr. w/ 4thRt transformation:', df.is_canceled.corr(np.sqrt(np.sqrt(df.lead_time))))\n",
    "plt.hist(np.sqrt(np.sqrt(df.lead_time)))\n",
    "plt.show()\n",
    "\n",
    "#Our correlation actually improves with the transformation. We will 4thRt. tranform lead time.\n",
    "df['tf_lead_time'] = np.sqrt(np.sqrt(df.lead_time))"
   ]
  },
  {
   "cell_type": "markdown",
   "metadata": {},
   "source": [
    "### Car Parking Spaces"
   ]
  },
  {
   "cell_type": "code",
   "execution_count": 14,
   "metadata": {},
   "outputs": [
    {
     "name": "stdout",
     "output_type": "stream",
     "text": [
      "0    34212\n",
      "1     5356\n",
      "2       25\n",
      "8        2\n",
      "3        1\n",
      "Name: required_car_parking_spaces, dtype: int64\n"
     ]
    }
   ],
   "source": [
    "#Required_car_parking_spaces has a few outliers,\n",
    "\n",
    "print(df.required_car_parking_spaces.value_counts())\n",
    "\n",
    "#Anything over one required space is exceedingly rare. Those values be dropped.\n",
    "df = df[df['required_car_parking_spaces']<2]"
   ]
  },
  {
   "cell_type": "markdown",
   "metadata": {},
   "source": [
    "## Outliers - Part 2\n",
    "\n",
    "The measures taken above removed all the outliers for lead time, but not much else changed. Outliers don't seem to be a problem with the chosen features though."
   ]
  },
  {
   "cell_type": "code",
   "execution_count": 15,
   "metadata": {},
   "outputs": [
    {
     "data": {
      "image/png": "[encoded data removed]",
      "text/plain": [
       "<Figure size 432x288 with 1 Axes>"
      ]
     },
     "metadata": {
      "needs_background": "light"
     },
     "output_type": "display_data"
    },
    {
     "name": "stdout",
     "output_type": "stream",
     "text": [
      "                                       0\n",
      "is_canceled                     1.000000\n",
      "agent_cancel_score              0.346268\n",
      "deposit_score                   0.322963\n",
      "country_cancel_score            0.302199\n",
      "tf_lead_time                    0.278811\n",
      "market_segment_score            0.252391\n",
      "lead_time                       0.226584\n",
      "distribution_channel_score      0.133020\n",
      "company_cancel_score            0.115979\n",
      "self_booked                     0.114354\n",
      "previous_cancellations          0.113649\n",
      "meal_score                      0.110548\n",
      "adr                             0.107347\n",
      "children                        0.080892\n",
      "adults                          0.077293\n",
      "stays_in_week_nights            0.077033\n",
      "stays_in_weekend_nights         0.076595\n",
      "arrival_date_year               0.043372\n",
      "arrival_date_week_number        0.020182\n",
      "arrival_date_day_of_month      -0.009602\n",
      "babies                         -0.023542\n",
      "days_in_waiting_list           -0.036668\n",
      "previous_bookings_not_canceled -0.073643\n",
      "agent                          -0.077405\n",
      "company                        -0.081696\n",
      "on_business                    -0.092426\n",
      "total_of_special_requests      -0.103061\n",
      "is_repeated_guest              -0.104656\n",
      "customer_cancel_score          -0.109266\n",
      "booking_changes                -0.115759\n",
      "required_car_parking_spaces    -0.246711\n",
      "index                          -0.600634\n"
     ]
    }
   ],
   "source": [
    "is_canceled_corr = pd.DataFrame(df.corrwith(df['is_canceled'])).sort_values(by=0, ascending=0)\n",
    "\n",
    "plt.bar(is_canceled_corr.index, height = is_canceled_corr[0])\n",
    "plt.xticks(is_canceled_corr.index, rotation='vertical', fontsize='8')\n",
    "plt.show()\n",
    "\n",
    "print(is_canceled_corr)"
   ]
  },
  {
   "cell_type": "code",
   "execution_count": 16,
   "metadata": {},
   "outputs": [
    {
     "name": "stdout",
     "output_type": "stream",
     "text": [
      "The score threshold for  is_canceled  is: 2\n",
      "Number of outliers is: 0\n",
      "The score threshold for  agent_cancel_score  is: 2\n",
      "Number of outliers is: 206\n",
      "The score threshold for  deposit_score  is: 2\n",
      "Number of outliers is: 1859\n",
      "The score threshold for  country_cancel_score  is: 2\n",
      "Number of outliers is: 0\n",
      "The score threshold for  tf_lead_time  is: 2\n",
      "Number of outliers is: 0\n",
      "The score threshold for  market_segment_score  is: 2\n",
      "Number of outliers is: 0\n",
      "The score threshold for  lead_time  is: 2\n",
      "Number of outliers is: 107\n",
      "The score threshold for  required_car_parking_spaces  is: 2\n",
      "Number of outliers is: 5356\n",
      "The score threshold for  index  is: 2\n",
      "Number of outliers is: 0\n"
     ]
    }
   ],
   "source": [
    "#Since all of the variables we have elected to include are at or above 14% corrrelation to is_cancelled\n",
    "#there is no need to analyze the others for outliers.\n",
    "column_list_one = is_canceled_corr[is_canceled_corr > 0.20].dropna().index\n",
    "column_list_two = is_canceled_corr[is_canceled_corr < -0.20].dropna().index\n",
    "\n",
    "column_list = column_list_one.append(column_list_two)\n",
    "\n",
    "#Non-ratio variables can't have outliers and must be filtered out, we will also filter out the\n",
    "#variables that we don't intend to use because of weak correlation.\n",
    "                 \n",
    "#We'll use the Tukey Interquartile Range method. \n",
    "\n",
    "for i in column_list:\n",
    "    q75, q25 = np.percentile(df[i], [75 ,25])\n",
    "    iqr = q75 - q25\n",
    "    threshold = 2\n",
    "    min_val = q25 - (iqr*threshold)\n",
    "    max_val = q75 + (iqr*threshold)\n",
    "    print(\"The score threshold for \", i, \" is: {}\".format(threshold))\n",
    "    print(\"Number of outliers is: {}\".format(\n",
    "        len((np.where((df[i] > max_val) \n",
    "            | (df[i] < min_val))[0]))\n",
    "    ))"
   ]
  },
  {
   "cell_type": "markdown",
   "metadata": {},
   "source": [
    "## Feature Selection - Round Two"
   ]
  },
  {
   "cell_type": "code",
   "execution_count": 17,
   "metadata": {},
   "outputs": [],
   "source": [
    "#import library\n",
    "from datetime import datetime\n",
    "from datetime import date\n",
    "import calendar"
   ]
  },
  {
   "cell_type": "code",
   "execution_count": 18,
   "metadata": {},
   "outputs": [],
   "source": [
    "df['w_date'] = df.arrival_date_year.astype(str) + ' ' + df.arrival_date_week_number.astype(str) \n",
    "df['w_date'] = df['w_date'].apply(lambda x: datetime.strptime(x + ' 0', \"%Y %W %w\"))"
   ]
  },
  {
   "cell_type": "code",
   "execution_count": 19,
   "metadata": {},
   "outputs": [],
   "source": [
    "features_df = df[['is_canceled', 'deposit_score', 'agent_cancel_score', 'country_cancel_score', \n",
    "                  'lead_time', 'tf_lead_time', 'market_segment_score', 'required_car_parking_spaces','w_date']]"
   ]
  },
  {
   "cell_type": "markdown",
   "metadata": {},
   "source": [
    "## Collinearity\n",
    "\n",
    "We still need to make a final decision on which lead_time feature to use. There is also some strong correlation between agent_cancel_score and market_segment score.\n",
    "\n",
    "In the models I found that models performed best when including agent_cancel_score and market_segement_score, with no need to account for interaction between the two."
   ]
  },
  {
   "cell_type": "code",
   "execution_count": 20,
   "metadata": {
    "scrolled": true
   },
   "outputs": [
    {
     "data": {
      "text/html": [
       "<div>\n",
       "<style scoped>\n",
       "    .dataframe tbody tr th:only-of-type {\n",
       "        vertical-align: middle;\n",
       "    }\n",
       "\n",
       "    .dataframe tbody tr th {\n",
       "        vertical-align: top;\n",
       "    }\n",
       "\n",
       "    .dataframe thead th {\n",
       "        text-align: right;\n",
       "    }\n",
       "</style>\n",
       "<table border=\"1\" class=\"dataframe\">\n",
       "  <thead>\n",
       "    <tr style=\"text-align: right;\">\n",
       "      <th></th>\n",
       "      <th>is_canceled</th>\n",
       "      <th>deposit_score</th>\n",
       "      <th>agent_cancel_score</th>\n",
       "      <th>country_cancel_score</th>\n",
       "      <th>lead_time</th>\n",
       "      <th>tf_lead_time</th>\n",
       "      <th>market_segment_score</th>\n",
       "      <th>required_car_parking_spaces</th>\n",
       "    </tr>\n",
       "  </thead>\n",
       "  <tbody>\n",
       "    <tr>\n",
       "      <th>is_canceled</th>\n",
       "      <td>1.000000</td>\n",
       "      <td>0.322963</td>\n",
       "      <td>0.346268</td>\n",
       "      <td>0.302199</td>\n",
       "      <td>0.226584</td>\n",
       "      <td>0.278811</td>\n",
       "      <td>0.252391</td>\n",
       "      <td>-0.246711</td>\n",
       "    </tr>\n",
       "    <tr>\n",
       "      <th>deposit_score</th>\n",
       "      <td>0.322963</td>\n",
       "      <td>1.000000</td>\n",
       "      <td>0.294504</td>\n",
       "      <td>0.157557</td>\n",
       "      <td>0.195930</td>\n",
       "      <td>0.172175</td>\n",
       "      <td>0.214029</td>\n",
       "      <td>-0.083666</td>\n",
       "    </tr>\n",
       "    <tr>\n",
       "      <th>agent_cancel_score</th>\n",
       "      <td>0.346268</td>\n",
       "      <td>0.294504</td>\n",
       "      <td>1.000000</td>\n",
       "      <td>0.089569</td>\n",
       "      <td>0.093224</td>\n",
       "      <td>0.141850</td>\n",
       "      <td>0.535933</td>\n",
       "      <td>-0.033324</td>\n",
       "    </tr>\n",
       "    <tr>\n",
       "      <th>country_cancel_score</th>\n",
       "      <td>0.302199</td>\n",
       "      <td>0.157557</td>\n",
       "      <td>0.089569</td>\n",
       "      <td>1.000000</td>\n",
       "      <td>-0.160619</td>\n",
       "      <td>-0.195575</td>\n",
       "      <td>-0.070661</td>\n",
       "      <td>0.014824</td>\n",
       "    </tr>\n",
       "    <tr>\n",
       "      <th>lead_time</th>\n",
       "      <td>0.226584</td>\n",
       "      <td>0.195930</td>\n",
       "      <td>0.093224</td>\n",
       "      <td>-0.160619</td>\n",
       "      <td>1.000000</td>\n",
       "      <td>0.848662</td>\n",
       "      <td>0.193912</td>\n",
       "      <td>-0.154995</td>\n",
       "    </tr>\n",
       "    <tr>\n",
       "      <th>tf_lead_time</th>\n",
       "      <td>0.278811</td>\n",
       "      <td>0.172175</td>\n",
       "      <td>0.141850</td>\n",
       "      <td>-0.195575</td>\n",
       "      <td>0.848662</td>\n",
       "      <td>1.000000</td>\n",
       "      <td>0.242910</td>\n",
       "      <td>-0.168567</td>\n",
       "    </tr>\n",
       "    <tr>\n",
       "      <th>market_segment_score</th>\n",
       "      <td>0.252391</td>\n",
       "      <td>0.214029</td>\n",
       "      <td>0.535933</td>\n",
       "      <td>-0.070661</td>\n",
       "      <td>0.193912</td>\n",
       "      <td>0.242910</td>\n",
       "      <td>1.000000</td>\n",
       "      <td>-0.067412</td>\n",
       "    </tr>\n",
       "    <tr>\n",
       "      <th>required_car_parking_spaces</th>\n",
       "      <td>-0.246711</td>\n",
       "      <td>-0.083666</td>\n",
       "      <td>-0.033324</td>\n",
       "      <td>0.014824</td>\n",
       "      <td>-0.154995</td>\n",
       "      <td>-0.168567</td>\n",
       "      <td>-0.067412</td>\n",
       "      <td>1.000000</td>\n",
       "    </tr>\n",
       "  </tbody>\n",
       "</table>\n",
       "</div>"
      ],
      "text/plain": [
       "                             is_canceled  deposit_score  agent_cancel_score  \\\n",
       "is_canceled                     1.000000       0.322963            0.346268   \n",
       "deposit_score                   0.322963       1.000000            0.294504   \n",
       "agent_cancel_score              0.346268       0.294504            1.000000   \n",
       "country_cancel_score            0.302199       0.157557            0.089569   \n",
       "lead_time                       0.226584       0.195930            0.093224   \n",
       "tf_lead_time                    0.278811       0.172175            0.141850   \n",
       "market_segment_score            0.252391       0.214029            0.535933   \n",
       "required_car_parking_spaces    -0.246711      -0.083666           -0.033324   \n",
       "\n",
       "                             country_cancel_score  lead_time  tf_lead_time  \\\n",
       "is_canceled                              0.302199   0.226584      0.278811   \n",
       "deposit_score                            0.157557   0.195930      0.172175   \n",
       "agent_cancel_score                       0.089569   0.093224      0.141850   \n",
       "country_cancel_score                     1.000000  -0.160619     -0.195575   \n",
       "lead_time                               -0.160619   1.000000      0.848662   \n",
       "tf_lead_time                            -0.195575   0.848662      1.000000   \n",
       "market_segment_score                    -0.070661   0.193912      0.242910   \n",
       "required_car_parking_spaces              0.014824  -0.154995     -0.168567   \n",
       "\n",
       "                             market_segment_score  required_car_parking_spaces  \n",
       "is_canceled                              0.252391                    -0.246711  \n",
       "deposit_score                            0.214029                    -0.083666  \n",
       "agent_cancel_score                       0.535933                    -0.033324  \n",
       "country_cancel_score                    -0.070661                     0.014824  \n",
       "lead_time                                0.193912                    -0.154995  \n",
       "tf_lead_time                             0.242910                    -0.168567  \n",
       "market_segment_score                     1.000000                    -0.067412  \n",
       "required_car_parking_spaces             -0.067412                     1.000000  "
      ]
     },
     "execution_count": 20,
     "metadata": {},
     "output_type": "execute_result"
    },
    {
     "data": {
      "image/png": "[encoded data removed]",
      "text/plain": [
       "<Figure size 720x720 with 2 Axes>"
      ]
     },
     "metadata": {
      "needs_background": "light"
     },
     "output_type": "display_data"
    }
   ],
   "source": [
    "fig, ax = plt.subplots(figsize=(10,10)) \n",
    "\n",
    "sns.heatmap(features_df.corr())\n",
    "\n",
    "features_df.corr()"
   ]
  },
  {
   "cell_type": "markdown",
   "metadata": {},
   "source": [
    "# The Models\n",
    "\n",
    "The models ran best with the original lead time data, and without counting the interaction between agent and market_segment.\n",
    "\n",
    "The Decision Tree Boosting model had accuracy at 76%, still relatively weak for a class-imbalanced dataset like this one.\n",
    "\n",
    "KNN Nearest Neighboor model produced accuracty between 68.2% and 70.4%\n",
    "\n",
    "Random Forest produced the lowest accuracy at 66%."
   ]
  },
  {
   "cell_type": "code",
   "execution_count": 21,
   "metadata": {},
   "outputs": [],
   "source": [
    "#Model Evaluation Libraries\n",
    "from sklearn.metrics import classification_report\n",
    "from sklearn.model_selection import cross_val_score\n",
    "from sklearn.metrics import accuracy_score"
   ]
  },
  {
   "cell_type": "markdown",
   "metadata": {},
   "source": [
    "#### Test/Train Split "
   ]
  },
  {
   "cell_type": "code",
   "execution_count": 22,
   "metadata": {},
   "outputs": [],
   "source": [
    "train_df = features_df[features_df['w_date'] <= '2017-05-31']\n",
    "test_df = features_df[features_df['w_date'] > '2017-05-31']"
   ]
  },
  {
   "cell_type": "code",
   "execution_count": 23,
   "metadata": {},
   "outputs": [],
   "source": [
    "# Y is the target variable\n",
    "y_train = train_df['is_canceled']\n",
    "y_test = test_df['is_canceled']\n",
    "\n",
    "# X is the feature set\n",
    "x_train = train_df[['deposit_score', 'agent_cancel_score', 'country_cancel_score', 'market_segment_score', 'required_car_parking_spaces','lead_time']]\n",
    "x_test = test_df[['deposit_score', 'agent_cancel_score', 'country_cancel_score', 'market_segment_score', 'required_car_parking_spaces','lead_time']]"
   ]
  },
  {
   "cell_type": "markdown",
   "metadata": {},
   "source": [
    "## Random Forest"
   ]
  },
  {
   "cell_type": "code",
   "execution_count": 24,
   "metadata": {},
   "outputs": [],
   "source": [
    "#Random Forest Libraries\n",
    "from sklearn import ensemble\n",
    "from sklearn.model_selection import GridSearchCV"
   ]
  },
  {
   "cell_type": "code",
   "execution_count": 25,
   "metadata": {},
   "outputs": [
    {
     "data": {
      "text/plain": [
       "GridSearchCV(cv=5, error_score=nan,\n",
       "             estimator=RandomForestClassifier(bootstrap=True, ccp_alpha=0.0,\n",
       "                                              class_weight=None,\n",
       "                                              criterion='gini', max_depth=None,\n",
       "                                              max_features='auto',\n",
       "                                              max_leaf_nodes=None,\n",
       "                                              max_samples=None,\n",
       "                                              min_impurity_decrease=0.0,\n",
       "                                              min_impurity_split=None,\n",
       "                                              min_samples_leaf=1,\n",
       "                                              min_samples_split=2,\n",
       "                                              min_weight_fraction_leaf=0.0,\n",
       "                                              n_estimators=100, n_jobs=-1,\n",
       "                                              oob_score=False,\n",
       "                                              random_state=None, verbose=0,\n",
       "                                              warm_start=False),\n",
       "             iid='deprecated', n_jobs=None,\n",
       "             param_grid={'criterion': ['gini', 'entropy'],\n",
       "                         'max_depth': [4, 5, 6, 7, 8],\n",
       "                         'max_features': ['auto', 'sqrt', 'log2'],\n",
       "                         'n_estimators': [200, 500]},\n",
       "             pre_dispatch='2*n_jobs', refit=True, return_train_score=False,\n",
       "             scoring=None, verbose=0)"
      ]
     },
     "execution_count": 25,
     "metadata": {},
     "output_type": "execute_result"
    }
   ],
   "source": [
    "rfc = ensemble.RandomForestClassifier(n_jobs=-1)\n",
    "\n",
    "#Hyper-parameter tuning\n",
    "param_grid = { \n",
    "    'n_estimators': [200, 500],\n",
    "    'max_features': ['auto', 'sqrt', 'log2'],\n",
    "    'max_depth' : [4,5,6,7,8],\n",
    "    'criterion' :['gini', 'entropy']\n",
    "}\n",
    "\n",
    "CV_rfc = GridSearchCV(estimator=rfc, param_grid=param_grid, cv= 5)\n",
    "CV_rfc.fit(x_train, y_train)"
   ]
  },
  {
   "cell_type": "code",
   "execution_count": 26,
   "metadata": {},
   "outputs": [
    {
     "data": {
      "text/plain": [
       "{'criterion': 'entropy',\n",
       " 'max_depth': 6,\n",
       " 'max_features': 'auto',\n",
       " 'n_estimators': 200}"
      ]
     },
     "execution_count": 26,
     "metadata": {},
     "output_type": "execute_result"
    }
   ],
   "source": [
    "CV_rfc.best_params_"
   ]
  },
  {
   "cell_type": "code",
   "execution_count": 27,
   "metadata": {},
   "outputs": [
    {
     "name": "stdout",
     "output_type": "stream",
     "text": [
      "Accuracy Score: 0.6883542919628212\n"
     ]
    }
   ],
   "source": [
    "rfc = ensemble.RandomForestClassifier(n_estimators=200, max_features='sqrt', max_depth=4, criterion='entropy')\n",
    "\n",
    "rfc.fit(x_train, y_train)\n",
    "\n",
    "y_pred = rfc.predict(x_test)\n",
    "\n",
    "print('Accuracy Score:', accuracy_score(y_test, y_pred))"
   ]
  },
  {
   "cell_type": "code",
   "execution_count": 28,
   "metadata": {},
   "outputs": [
    {
     "name": "stdout",
     "output_type": "stream",
     "text": [
      "              precision    recall  f1-score   support\n",
      "\n",
      "           0       0.68      0.95      0.79      3409\n",
      "           1       0.77      0.25      0.38      2078\n",
      "\n",
      "    accuracy                           0.69      5487\n",
      "   macro avg       0.72      0.60      0.59      5487\n",
      "weighted avg       0.71      0.69      0.64      5487\n",
      "\n"
     ]
    }
   ],
   "source": [
    " print(classification_report(y_test, y_pred))"
   ]
  },
  {
   "cell_type": "markdown",
   "metadata": {},
   "source": [
    "## Gradient Boosting"
   ]
  },
  {
   "cell_type": "code",
   "execution_count": 29,
   "metadata": {},
   "outputs": [],
   "source": [
    "#Libraries\n",
    "import scipy\n",
    "from sklearn import ensemble\n",
    "from IPython.display import Image\n",
    "import pydotplus\n",
    "import graphviz"
   ]
  },
  {
   "cell_type": "markdown",
   "metadata": {},
   "source": [
    "#### Max Depth 2, default parameters"
   ]
  },
  {
   "cell_type": "code",
   "execution_count": 30,
   "metadata": {
    "scrolled": true
   },
   "outputs": [
    {
     "name": "stdout",
     "output_type": "stream",
     "text": [
      "Weak learner 0 R^2: 0.7129579004920722\n",
      "Weak learner 20 R^2: 0.7129579004920722\n"
     ]
    },
    {
     "data": {
      "image/png": "[encoded data removed]",
      "text/plain": [
       "<Figure size 432x288 with 1 Axes>"
      ]
     },
     "metadata": {
      "needs_background": "light"
     },
     "output_type": "display_data"
    },
    {
     "name": "stdout",
     "output_type": "stream",
     "text": [
      "Accuracy Score: 0.7129579004920722\n"
     ]
    }
   ],
   "source": [
    "# Store values from loops.\n",
    "preds = pd.DataFrame()\n",
    "labels = []\n",
    "\n",
    "uniquex = df['is_canceled'].unique()\n",
    "\n",
    "for m in range(0, 21):\n",
    "    \n",
    "    # Initialize and fit the tree. Set the max depth to 2.\n",
    "    gradient_boost = ensemble.GradientBoostingClassifier(max_depth=2)\n",
    "    gradient_boost.fit(x_train,y_train)\n",
    "    \n",
    "    # Get and store predicted values.\n",
    "    y_pred = gradient_boost.predict(x_test)\n",
    "    preds['pred{}'.format(m)] = y_pred\n",
    "    \n",
    "    # Residuals.\n",
    "    residuals = y_test - y_pred\n",
    "\n",
    "    # Output every 20 iterations.\n",
    "    if m % 20 == 0:\n",
    "        print('Weak learner {} R^2: {}'.format(m, gradient_boost.score(x_test, y_test)))\n",
    "        labels = labels + [m]\n",
    "        bestpred = preds.sum(axis=1)\n",
    "        plt.plot(uniquex, np.poly1d(np.polyfit(test_df['is_canceled'], bestpred, 1))(uniquex))\n",
    "       \n",
    "plt.legend(labels)\n",
    "plt.xlabel('Original')\n",
    "plt.ylabel('Predicted')\n",
    "plt.show()\n",
    "predicted = preds.sum(axis=1)\n",
    "\n",
    "print('Accuracy Score:', accuracy_score(y_test, y_pred))"
   ]
  },
  {
   "cell_type": "code",
   "execution_count": 31,
   "metadata": {
    "scrolled": true
   },
   "outputs": [
    {
     "name": "stdout",
     "output_type": "stream",
     "text": [
      "              precision    recall  f1-score   support\n",
      "\n",
      "           0       0.72      0.89      0.79      3409\n",
      "           1       0.70      0.42      0.52      2078\n",
      "\n",
      "    accuracy                           0.71      5487\n",
      "   macro avg       0.71      0.66      0.66      5487\n",
      "weighted avg       0.71      0.71      0.69      5487\n",
      "\n"
     ]
    }
   ],
   "source": [
    " print(classification_report(y_test, y_pred))"
   ]
  },
  {
   "cell_type": "markdown",
   "metadata": {},
   "source": [
    "#### Max Depth 8, default parameters"
   ]
  },
  {
   "cell_type": "code",
   "execution_count": 42,
   "metadata": {
    "scrolled": true
   },
   "outputs": [
    {
     "name": "stdout",
     "output_type": "stream",
     "text": [
      "Weak learner 0 R^2: 0.7519591762347366\n",
      "Weak learner 20 R^2: 0.7521414251868052\n",
      "Weak learner 40 R^2: 0.7519591762347366\n",
      "Weak learner 60 R^2: 0.7519591762347366\n",
      "Weak learner 80 R^2: 0.7523236741388737\n",
      "Weak learner 100 R^2: 0.7519591762347366\n"
     ]
    },
    {
     "data": {
      "image/png": "[encoded data removed]",
      "text/plain": [
       "<Figure size 432x288 with 1 Axes>"
      ]
     },
     "metadata": {
      "needs_background": "light"
     },
     "output_type": "display_data"
    },
    {
     "name": "stdout",
     "output_type": "stream",
     "text": [
      "Accuracy Score: 0.7519591762347366\n"
     ]
    }
   ],
   "source": [
    "# Store values from loops.\n",
    "preds = pd.DataFrame()\n",
    "labels = []\n",
    "\n",
    "uniquex = df['is_canceled'].unique()\n",
    "\n",
    "for m in range(0, 61):\n",
    "    \n",
    "    # Initialize and fit the tree. Set the max depth to 2.\n",
    "    gradient_boost = ensemble.GradientBoostingClassifier(max_depth=8)\n",
    "    gradient_boost.fit(x_train,y_train)\n",
    "    \n",
    "    # Get and store predicted values.\n",
    "    y_pred = gradient_boost.predict(x_test)\n",
    "    preds['pred{}'.format(m)] = y_pred\n",
    "    \n",
    "    # Residuals.\n",
    "    residuals = y_test - y_pred\n",
    "\n",
    "    # Output every 20 iterations.\n",
    "    if m % 20 == 0:\n",
    "        print('Weak learner {} R^2: {}'.format(m, gradient_boost.score(x_test, y_test)))\n",
    "        labels = labels + [m]\n",
    "        bestpred = preds.sum(axis=1)\n",
    "        plt.plot(uniquex, np.poly1d(np.polyfit(test_df['is_canceled'], bestpred, 1))(uniquex))\n",
    "       \n",
    "plt.legend(labels)\n",
    "plt.xlabel('Original')\n",
    "plt.ylabel('Predicted')\n",
    "plt.show()\n",
    "predicted = preds.sum(axis=1)\n",
    "\n",
    "print('Accuracy Score:', accuracy_score(y_test, y_pred))"
   ]
  },
  {
   "cell_type": "code",
   "execution_count": 43,
   "metadata": {
    "scrolled": true
   },
   "outputs": [
    {
     "name": "stdout",
     "output_type": "stream",
     "text": [
      "              precision    recall  f1-score   support\n",
      "\n",
      "           0       0.77      0.86      0.81      3409\n",
      "           1       0.71      0.58      0.64      2078\n",
      "\n",
      "    accuracy                           0.75      5487\n",
      "   macro avg       0.74      0.72      0.72      5487\n",
      "weighted avg       0.75      0.75      0.75      5487\n",
      "\n"
     ]
    }
   ],
   "source": [
    " print(classification_report(y_test, y_pred))"
   ]
  },
  {
   "cell_type": "markdown",
   "metadata": {},
   "source": [
    "#### Max Depth 8, max_features=sqrt, default parameters"
   ]
  },
  {
   "cell_type": "code",
   "execution_count": 46,
   "metadata": {
    "scrolled": true
   },
   "outputs": [
    {
     "name": "stdout",
     "output_type": "stream",
     "text": [
      "Weak learner 0 R^2: 0.7577911427009295\n",
      "Weak learner 20 R^2: 0.7566976489885183\n",
      "Weak learner 40 R^2: 0.7570621468926554\n",
      "Weak learner 60 R^2: 0.7556041552761071\n",
      "Weak learner 80 R^2: 0.7559686531802442\n",
      "Weak learner 100 R^2: 0.7523236741388737\n",
      "Weak learner 120 R^2: 0.7594313832695462\n",
      "Weak learner 140 R^2: 0.7528704209950793\n",
      "Weak learner 160 R^2: 0.7521414251868052\n",
      "Weak learner 180 R^2: 0.7577911427009295\n",
      "Weak learner 200 R^2: 0.7565154000364498\n"
     ]
    },
    {
     "data": {
      "image/png": "[encoded data removed]",
      "text/plain": [
       "<Figure size 432x288 with 1 Axes>"
      ]
     },
     "metadata": {
      "needs_background": "light"
     },
     "output_type": "display_data"
    },
    {
     "name": "stdout",
     "output_type": "stream",
     "text": [
      "Accuracy Score: 0.7565154000364498\n"
     ]
    }
   ],
   "source": [
    "# Store values from loops.\n",
    "preds = pd.DataFrame()\n",
    "labels = []\n",
    "\n",
    "uniquex = df['is_canceled'].unique()\n",
    "\n",
    "for m in range(0, 201):\n",
    "    \n",
    "    # Initialize and fit the tree. Set the max depth to 2.\n",
    "    gradient_boost = ensemble.GradientBoostingClassifier(max_depth=8,max_features='sqrt')\n",
    "    gradient_boost.fit(x_train,y_train)\n",
    "    \n",
    "    # Get and store predicted values.\n",
    "    y_pred = gradient_boost.predict(x_test)\n",
    "    preds['pred{}'.format(m)] = y_pred\n",
    "    \n",
    "    # Residuals.\n",
    "    residuals = y_test - y_pred\n",
    "\n",
    "    # Output every 20 iterations.\n",
    "    if m % 20 == 0:\n",
    "        print('Weak learner {} R^2: {}'.format(m, gradient_boost.score(x_test, y_test)))\n",
    "        labels = labels + [m]\n",
    "        bestpred = preds.sum(axis=1)\n",
    "        plt.plot(uniquex, np.poly1d(np.polyfit(test_df['is_canceled'], bestpred, 1))(uniquex))\n",
    "       \n",
    "plt.legend(labels)\n",
    "plt.xlabel('Original')\n",
    "plt.ylabel('Predicted')\n",
    "plt.show()\n",
    "predicted = preds.sum(axis=1)\n",
    "\n",
    "print('Accuracy Score:', accuracy_score(y_test, y_pred))"
   ]
  },
  {
   "cell_type": "code",
   "execution_count": 47,
   "metadata": {},
   "outputs": [
    {
     "name": "stdout",
     "output_type": "stream",
     "text": [
      "              precision    recall  f1-score   support\n",
      "\n",
      "           0       0.77      0.86      0.81      3409\n",
      "           1       0.72      0.59      0.65      2078\n",
      "\n",
      "    accuracy                           0.76      5487\n",
      "   macro avg       0.75      0.72      0.73      5487\n",
      "weighted avg       0.75      0.76      0.75      5487\n",
      "\n"
     ]
    }
   ],
   "source": [
    " print(classification_report(y_test, y_pred))"
   ]
  },
  {
   "cell_type": "markdown",
   "metadata": {},
   "source": [
    "## KNN"
   ]
  },
  {
   "cell_type": "code",
   "execution_count": 32,
   "metadata": {},
   "outputs": [],
   "source": [
    "#Libraries\n",
    "from sklearn.neighbors import KNeighborsClassifier"
   ]
  },
  {
   "cell_type": "code",
   "execution_count": 33,
   "metadata": {},
   "outputs": [
    {
     "name": "stdout",
     "output_type": "stream",
     "text": [
      "Accuracy Score: 0.6983779843265902\n"
     ]
    },
    {
     "data": {
      "text/plain": [
       "0.7208714384183266"
      ]
     },
     "execution_count": 33,
     "metadata": {},
     "output_type": "execute_result"
    }
   ],
   "source": [
    "neighbors = KNeighborsClassifier(n_neighbors=1)\n",
    "\n",
    "neighbors.fit(x_train,y_train)\n",
    "\n",
    "knn_results = cross_val_score(neighbors, x_train, y_train, cv=10)\n",
    "\n",
    "y_pred = neighbors.predict(x_test)\n",
    "\n",
    "print('Accuracy Score:', accuracy_score(y_test, y_pred))\n",
    "\n",
    "knn_results.mean()"
   ]
  },
  {
   "cell_type": "code",
   "execution_count": 34,
   "metadata": {},
   "outputs": [
    {
     "name": "stdout",
     "output_type": "stream",
     "text": [
      "Accuracy Score: 0.6819755786404228\n"
     ]
    },
    {
     "data": {
      "text/plain": [
       "0.7514754423185245"
      ]
     },
     "execution_count": 34,
     "metadata": {},
     "output_type": "execute_result"
    }
   ],
   "source": [
    "neighbors = KNeighborsClassifier(n_neighbors=2)\n",
    "\n",
    "neighbors.fit(x_train,y_train)\n",
    "\n",
    "knn_results = cross_val_score(neighbors, x_train, y_train, cv=10)\n",
    "\n",
    "y_pred = neighbors.predict(x_test)\n",
    "\n",
    "print('Accuracy Score:', accuracy_score(y_test, y_pred))\n",
    "\n",
    "knn_results.mean()"
   ]
  },
  {
   "cell_type": "code",
   "execution_count": 35,
   "metadata": {},
   "outputs": [
    {
     "name": "stdout",
     "output_type": "stream",
     "text": [
      "Accuracy Score: 0.7036632039365773\n"
     ]
    },
    {
     "data": {
      "text/plain": [
       "0.750213782696177"
      ]
     },
     "execution_count": 35,
     "metadata": {},
     "output_type": "execute_result"
    }
   ],
   "source": [
    "neighbors = KNeighborsClassifier(n_neighbors=3)\n",
    "\n",
    "neighbors.fit(x_train,y_train)\n",
    "\n",
    "knn_results = cross_val_score(neighbors, x_train, y_train, cv=10)\n",
    "\n",
    "y_pred = neighbors.predict(x_test)\n",
    "\n",
    "print('Accuracy Score:', accuracy_score(y_test, y_pred))\n",
    "\n",
    "knn_results.mean()"
   ]
  },
  {
   "cell_type": "code",
   "execution_count": 36,
   "metadata": {},
   "outputs": [
    {
     "name": "stdout",
     "output_type": "stream",
     "text": [
      "Accuracy Score: 0.6841625660652452\n"
     ]
    },
    {
     "data": {
      "text/plain": [
       "0.7597201966074338"
      ]
     },
     "execution_count": 36,
     "metadata": {},
     "output_type": "execute_result"
    }
   ],
   "source": [
    "neighbors = KNeighborsClassifier(n_neighbors=4)\n",
    "\n",
    "neighbors.fit(x_train,y_train)\n",
    "\n",
    "knn_results = cross_val_score(neighbors, x_train, y_train, cv=10)\n",
    "\n",
    "y_pred = neighbors.predict(x_test)\n",
    "\n",
    "print('Accuracy Score:', accuracy_score(y_test, y_pred))\n",
    "\n",
    "knn_results.mean()"
   ]
  },
  {
   "cell_type": "code",
   "execution_count": 37,
   "metadata": {},
   "outputs": [
    {
     "name": "stdout",
     "output_type": "stream",
     "text": [
      "Accuracy Score: 0.7009294696555495\n"
     ]
    },
    {
     "data": {
      "text/plain": [
       "0.7563166559245962"
      ]
     },
     "execution_count": 37,
     "metadata": {},
     "output_type": "execute_result"
    }
   ],
   "source": [
    "neighbors = KNeighborsClassifier(n_neighbors=5)\n",
    "\n",
    "neighbors.fit(x_train,y_train)\n",
    "\n",
    "knn_results = cross_val_score(neighbors, x_train, y_train, cv=10)\n",
    "\n",
    "y_pred = neighbors.predict(x_test)\n",
    "\n",
    "print('Accuracy Score:', accuracy_score(y_test, y_pred))\n",
    "\n",
    "knn_results.mean()"
   ]
  },
  {
   "cell_type": "code",
   "execution_count": 38,
   "metadata": {},
   "outputs": [
    {
     "name": "stdout",
     "output_type": "stream",
     "text": [
      "              precision    recall  f1-score   support\n",
      "\n",
      "           0       0.72      0.84      0.78      3409\n",
      "           1       0.65      0.47      0.54      2078\n",
      "\n",
      "    accuracy                           0.70      5487\n",
      "   macro avg       0.68      0.66      0.66      5487\n",
      "weighted avg       0.69      0.70      0.69      5487\n",
      "\n"
     ]
    }
   ],
   "source": [
    " print(classification_report(y_test, y_pred))"
   ]
  },
  {
   "cell_type": "markdown",
   "metadata": {},
   "source": [
    "### Notebook Summary"
   ]
  },
  {
   "cell_type": "markdown",
   "metadata": {},
   "source": [
    "In this notebook, I built several models to model if a given booking would be canceled. Although the models worked very well on the training data, they were not very accurate on new data.\n",
    "\n",
    "Had one of these models achieved a high degree of accuracy, it would be potentially valuable in a very microscopic sense. If a modeling pipeline could be built around it to effeciently sort bookings based on their cancellation risks I see the possiblity of some valuable business applications."
   ]
  }
 ],
 "metadata": {
  "kernelspec": {
   "display_name": "Python 3",
   "language": "python",
   "name": "python3"
  },
  "language_info": {
   "codemirror_mode": {
    "name": "ipython",
    "version": 3
   },
   "file_extension": ".py",
   "mimetype": "text/x-python",
   "name": "python",
   "nbconvert_exporter": "python",
   "pygments_lexer": "ipython3",
   "version": "3.7.3"
  }
 },
 "nbformat": 4,
 "nbformat_minor": 2
}
